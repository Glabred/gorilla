{
 "cells": [
  {
   "cell_type": "code",
   "execution_count": 2,
   "metadata": {},
   "outputs": [],
   "source": [
    "import pandas as pd\n",
    "import json\n",
    "import os"
   ]
  },
  {
   "cell_type": "code",
   "execution_count": 5,
   "metadata": {},
   "outputs": [],
   "source": [
    "# get all json files in score/ directory\n",
    "model = 'databricks-dbrx-instruct'\n",
    "results_dir = f'score/{model}'\n",
    "json_files = [f'{results_dir}/{f}' for f in os.listdir(results_dir) if f.endswith('.json')]"
   ]
  },
  {
   "cell_type": "code",
   "execution_count": 6,
   "metadata": {},
   "outputs": [
    {
     "data": {
      "text/plain": [
       "['score/databricks-dbrx-instruct/relevance_score.json',\n",
       " 'score/databricks-dbrx-instruct/executable_simple_score.json',\n",
       " 'score/databricks-dbrx-instruct/parallel_multiple_function_score.json',\n",
       " 'score/databricks-dbrx-instruct/executable_multiple_function_score.json',\n",
       " 'score/databricks-dbrx-instruct/executable_parallel_multiple_function_score.json',\n",
       " 'score/databricks-dbrx-instruct/simple_score.json',\n",
       " 'score/databricks-dbrx-instruct/multiple_function_score.json',\n",
       " 'score/databricks-dbrx-instruct/java_score.json',\n",
       " 'score/databricks-dbrx-instruct/executable_parallel_function_score.json',\n",
       " 'score/databricks-dbrx-instruct/rest_score.json',\n",
       " 'score/databricks-dbrx-instruct/javascript_score.json',\n",
       " 'score/databricks-dbrx-instruct/parallel_function_score.json']"
      ]
     },
     "execution_count": 6,
     "metadata": {},
     "output_type": "execute_result"
    }
   ],
   "source": [
    "json_files"
   ]
  },
  {
   "cell_type": "code",
   "execution_count": 7,
   "metadata": {},
   "outputs": [],
   "source": [
    "results_dict = {'filename': [], 'accuracy': [], 'correct_count': [], 'total_count': []}\n",
    "for filename in json_files:\n",
    "    with open(filename, 'r') as f:\n",
    "        data = [json.loads(line) for line in f.readlines()]\n",
    "        accuracy_info = data[0]\n",
    "        results_dict['filename'].append(filename)\n",
    "        for key in accuracy_info.keys():\n",
    "            results_dict[key].append(accuracy_info[key])"
   ]
  },
  {
   "cell_type": "code",
   "execution_count": 8,
   "metadata": {},
   "outputs": [],
   "source": [
    "results_df = pd.DataFrame(results_dict)\n",
    "results_df['metric'] = results_df['filename'].apply(lambda x: x.split('/')[-1].split('.')[0])"
   ]
  },
  {
   "cell_type": "code",
   "execution_count": 9,
   "metadata": {},
   "outputs": [
    {
     "data": {
      "text/html": [
       "<div>\n",
       "<style scoped>\n",
       "    .dataframe tbody tr th:only-of-type {\n",
       "        vertical-align: middle;\n",
       "    }\n",
       "\n",
       "    .dataframe tbody tr th {\n",
       "        vertical-align: top;\n",
       "    }\n",
       "\n",
       "    .dataframe thead th {\n",
       "        text-align: right;\n",
       "    }\n",
       "</style>\n",
       "<table border=\"1\" class=\"dataframe\">\n",
       "  <thead>\n",
       "    <tr style=\"text-align: right;\">\n",
       "      <th></th>\n",
       "      <th>metric</th>\n",
       "      <th>accuracy</th>\n",
       "      <th>correct_count</th>\n",
       "      <th>total_count</th>\n",
       "    </tr>\n",
       "  </thead>\n",
       "  <tbody>\n",
       "    <tr>\n",
       "      <th>0</th>\n",
       "      <td>relevance_score</td>\n",
       "      <td>0.529167</td>\n",
       "      <td>127</td>\n",
       "      <td>240</td>\n",
       "    </tr>\n",
       "    <tr>\n",
       "      <th>1</th>\n",
       "      <td>executable_simple_score</td>\n",
       "      <td>0.610000</td>\n",
       "      <td>61</td>\n",
       "      <td>100</td>\n",
       "    </tr>\n",
       "    <tr>\n",
       "      <th>2</th>\n",
       "      <td>parallel_multiple_function_score</td>\n",
       "      <td>0.440000</td>\n",
       "      <td>88</td>\n",
       "      <td>200</td>\n",
       "    </tr>\n",
       "    <tr>\n",
       "      <th>3</th>\n",
       "      <td>executable_multiple_function_score</td>\n",
       "      <td>0.540000</td>\n",
       "      <td>27</td>\n",
       "      <td>50</td>\n",
       "    </tr>\n",
       "    <tr>\n",
       "      <th>4</th>\n",
       "      <td>executable_parallel_multiple_function_score</td>\n",
       "      <td>0.150000</td>\n",
       "      <td>6</td>\n",
       "      <td>40</td>\n",
       "    </tr>\n",
       "    <tr>\n",
       "      <th>5</th>\n",
       "      <td>simple_score</td>\n",
       "      <td>0.765000</td>\n",
       "      <td>306</td>\n",
       "      <td>400</td>\n",
       "    </tr>\n",
       "    <tr>\n",
       "      <th>6</th>\n",
       "      <td>multiple_function_score</td>\n",
       "      <td>0.810000</td>\n",
       "      <td>162</td>\n",
       "      <td>200</td>\n",
       "    </tr>\n",
       "    <tr>\n",
       "      <th>7</th>\n",
       "      <td>java_score</td>\n",
       "      <td>0.390000</td>\n",
       "      <td>39</td>\n",
       "      <td>100</td>\n",
       "    </tr>\n",
       "    <tr>\n",
       "      <th>8</th>\n",
       "      <td>executable_parallel_function_score</td>\n",
       "      <td>0.540000</td>\n",
       "      <td>27</td>\n",
       "      <td>50</td>\n",
       "    </tr>\n",
       "    <tr>\n",
       "      <th>9</th>\n",
       "      <td>rest_score</td>\n",
       "      <td>0.714286</td>\n",
       "      <td>50</td>\n",
       "      <td>70</td>\n",
       "    </tr>\n",
       "    <tr>\n",
       "      <th>10</th>\n",
       "      <td>javascript_score</td>\n",
       "      <td>0.560000</td>\n",
       "      <td>28</td>\n",
       "      <td>50</td>\n",
       "    </tr>\n",
       "    <tr>\n",
       "      <th>11</th>\n",
       "      <td>parallel_function_score</td>\n",
       "      <td>0.705000</td>\n",
       "      <td>141</td>\n",
       "      <td>200</td>\n",
       "    </tr>\n",
       "  </tbody>\n",
       "</table>\n",
       "</div>"
      ],
      "text/plain": [
       "                                         metric  accuracy  correct_count  \\\n",
       "0                               relevance_score  0.529167            127   \n",
       "1                       executable_simple_score  0.610000             61   \n",
       "2              parallel_multiple_function_score  0.440000             88   \n",
       "3            executable_multiple_function_score  0.540000             27   \n",
       "4   executable_parallel_multiple_function_score  0.150000              6   \n",
       "5                                  simple_score  0.765000            306   \n",
       "6                       multiple_function_score  0.810000            162   \n",
       "7                                    java_score  0.390000             39   \n",
       "8            executable_parallel_function_score  0.540000             27   \n",
       "9                                    rest_score  0.714286             50   \n",
       "10                             javascript_score  0.560000             28   \n",
       "11                      parallel_function_score  0.705000            141   \n",
       "\n",
       "    total_count  \n",
       "0           240  \n",
       "1           100  \n",
       "2           200  \n",
       "3            50  \n",
       "4            40  \n",
       "5           400  \n",
       "6           200  \n",
       "7           100  \n",
       "8            50  \n",
       "9            70  \n",
       "10           50  \n",
       "11          200  "
      ]
     },
     "execution_count": 9,
     "metadata": {},
     "output_type": "execute_result"
    }
   ],
   "source": [
    "results_df[['metric', 'accuracy', 'correct_count', 'total_count']]"
   ]
  },
  {
   "cell_type": "code",
   "execution_count": 10,
   "metadata": {},
   "outputs": [
    {
     "data": {
      "text/plain": [
       "0.6247058823529412"
      ]
     },
     "execution_count": 10,
     "metadata": {},
     "output_type": "execute_result"
    }
   ],
   "source": [
    "results_df.correct_count.sum() / results_df.total_count.sum()"
   ]
  },
  {
   "cell_type": "code",
   "execution_count": null,
   "metadata": {},
   "outputs": [],
   "source": []
  }
 ],
 "metadata": {
  "kernelspec": {
   "display_name": "gorilla-venv",
   "language": "python",
   "name": "python3"
  },
  "language_info": {
   "codemirror_mode": {
    "name": "ipython",
    "version": 3
   },
   "file_extension": ".py",
   "mimetype": "text/x-python",
   "name": "python",
   "nbconvert_exporter": "python",
   "pygments_lexer": "ipython3",
   "version": "3.11.7"
  }
 },
 "nbformat": 4,
 "nbformat_minor": 2
}
